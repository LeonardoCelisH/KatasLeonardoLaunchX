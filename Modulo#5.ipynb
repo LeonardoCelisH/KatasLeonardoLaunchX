{
 "cells": [
  {
   "cell_type": "markdown",
   "metadata": {},
   "source": [
    "## Kata 5"
   ]
  },
  {
   "cell_type": "code",
   "execution_count": 22,
   "metadata": {},
   "outputs": [
    {
     "name": "stdout",
     "output_type": "stream",
     "text": [
      "628949330\n",
      "390577534\n"
     ]
    }
   ],
   "source": [
    "# Ejercicio 1\n",
    "\n",
    "tierra = int('149597870')\n",
    "jupiter = int('778547200')\n",
    "\n",
    "# Distancia entre planetas\n",
    "distancia_km = jupiter - tierra\n",
    "distancia_mi = distancia_km * 0.621\n",
    "\n",
    "print(distancia_km)\n",
    "print(round(distancia_mi))\n",
    "\n"
   ]
  },
  {
   "cell_type": "code",
   "execution_count": 24,
   "metadata": {},
   "outputs": [
    {
     "name": "stdout",
     "output_type": "stream",
     "text": [
      "55349\n",
      "34371.729\n"
     ]
    }
   ],
   "source": [
    "# Ejercicio #2\n",
    "\n",
    "planeta_a = input('Introduzca la distancia que tiene el primer planeta en relación al sol')\n",
    "planeta_b = input('Introduzca la distancia que tiene el segundo planeta en relación al sol')\n",
    "\n",
    "planeta_a = int(planeta_a)\n",
    "planeta_b = int(planeta_b)\n",
    "\n",
    "distancia_km = planeta_b - planeta_a\n",
    "distance_mi = distancia_km * 0.621\n",
    "\n",
    "print(abs(distancia_km))\n",
    "print(abs(distance_mi))"
   ]
  }
 ],
 "metadata": {
  "interpreter": {
   "hash": "efb27aadfb5927903642bfcfb30c751a53720953f15ae9a7bf806b1d97bd2e07"
  },
  "kernelspec": {
   "display_name": "Python 3.9.10 64-bit (windows store)",
   "language": "python",
   "name": "python3"
  },
  "language_info": {
   "codemirror_mode": {
    "name": "ipython",
    "version": 3
   },
   "file_extension": ".py",
   "mimetype": "text/x-python",
   "name": "python",
   "nbconvert_exporter": "python",
   "pygments_lexer": "ipython3",
   "version": "3.9.10"
  },
  "orig_nbformat": 4
 },
 "nbformat": 4,
 "nbformat_minor": 2
}
