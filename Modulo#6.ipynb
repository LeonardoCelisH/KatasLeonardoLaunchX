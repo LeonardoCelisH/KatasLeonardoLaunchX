{
 "cells": [
  {
   "cell_type": "markdown",
   "metadata": {},
   "source": [
    "## Kata 6"
   ]
  },
  {
   "cell_type": "code",
   "execution_count": 11,
   "metadata": {},
   "outputs": [
    {
     "name": "stdout",
     "output_type": "stream",
     "text": [
      "El numero total de planetas son 8\n",
      "Pluto Es el último planeta\n"
     ]
    }
   ],
   "source": [
    "# Ejercicio 1\n",
    "\n",
    "planets = ['Mercurio', 'Venus', 'Tierra', 'Marte', 'Jupiter', 'Saturno', 'Urano', 'Neptuno']\n",
    "print('El numero total de planetas son', len(planets))\n",
    "\n",
    "planets.append('Pluto')\n",
    "planets_mod = len(planets)\n",
    "print(planets[-1], 'Es el último planeta')\n",
    "\n"
   ]
  },
  {
   "cell_type": "code",
   "execution_count": 19,
   "metadata": {},
   "outputs": [
    {
     "name": "stdout",
     "output_type": "stream",
     "text": [
      "Tomando de referencia a el planeta Marte los planetas que estan antes son ['Mercurio', 'Venus', 'Tierra'] y los planetas que estan después son: ['Jupiter', 'Saturno', 'Urano', 'Neptuno']\n"
     ]
    }
   ],
   "source": [
    "# Ejercicio 2\n",
    "\n",
    "planets = ['Mercurio', 'Venus', 'Tierra', 'Marte', 'Jupiter', 'Saturno', 'Urano', 'Neptuno']\n",
    "\n",
    "planeta_us = input('Introduce un planeta, iniciando con mayuscula')\n",
    "planeta_index = planets.index(planeta_us)\n",
    "print('Tomando de referencia a el planeta', planeta_us, 'los planetas que estan antes son', planets[0:planeta_index], 'y los planetas que estan después son:', planets[planeta_index + 1:])\n",
    "\n"
   ]
  }
 ],
 "metadata": {
  "interpreter": {
   "hash": "efb27aadfb5927903642bfcfb30c751a53720953f15ae9a7bf806b1d97bd2e07"
  },
  "kernelspec": {
   "display_name": "Python 3.9.10 64-bit (windows store)",
   "language": "python",
   "name": "python3"
  },
  "language_info": {
   "codemirror_mode": {
    "name": "ipython",
    "version": 3
   },
   "file_extension": ".py",
   "mimetype": "text/x-python",
   "name": "python",
   "nbconvert_exporter": "python",
   "pygments_lexer": "ipython3",
   "version": "3.9.10"
  },
  "orig_nbformat": 4
 },
 "nbformat": 4,
 "nbformat_minor": 2
}
