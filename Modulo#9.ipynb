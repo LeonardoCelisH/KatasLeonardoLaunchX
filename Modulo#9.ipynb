{
 "cells": [
  {
   "cell_type": "markdown",
   "metadata": {},
   "source": [
    "## Kata 9"
   ]
  },
  {
   "cell_type": "code",
   "execution_count": 22,
   "metadata": {},
   "outputs": [
    {
     "name": "stdout",
     "output_type": "stream",
     "text": [
      "Reporte de combustible:\n",
      "    promedio total: 78.33333333333333%\n",
      "    tanque1: 80%\n",
      "    tanque2: 70%\n",
      "    tanque3: 85% \n",
      "    \n",
      "Reporte de combustible:\n",
      "    Promedio total: 78.0%\n",
      "    tanque1: 88%\n",
      "    tanque2: 76%\n",
      "    tanque3: 70% \n",
      "    \n"
     ]
    }
   ],
   "source": [
    "# Ejercicio 1\n",
    "\n",
    "def gen_taq(tanque1, tanque2, tanque3):\n",
    "    total_promedio = (tanque1 + tanque2 + tanque3) / 3\n",
    "    return f\"\"\"Reporte de combustible:\n",
    "    promedio total: {total_promedio}%\n",
    "    tanque1: {tanque1}%\n",
    "    tanque2: {tanque2}%\n",
    "    tanque3: {tanque3}% \n",
    "    \"\"\"\n",
    "\n",
    "print(gen_taq(80, 70, 85))\n",
    "\n",
    "def promedio(valor):\n",
    "    total = sum(valor)\n",
    "    number_of_items = len(valor)\n",
    "    return total / number_of_items\n",
    "\n",
    "\n",
    "promedio([80, 85, 81]) \n",
    "\n",
    "\n",
    "def gen_taq(tanque1, tanque2, tanque3):\n",
    "    return f\"\"\"Reporte de combustible:\n",
    "    Promedio total: {promedio([tanque1, tanque2, tanque3])}%\n",
    "    tanque1: {tanque1}%\n",
    "    tanque2: {tanque2}%\n",
    "    tanque3: {tanque3}% \n",
    "    \"\"\"\n",
    "\n",
    "print(gen_taq(88, 76, 70))"
   ]
  },
  {
   "cell_type": "code",
   "execution_count": 23,
   "metadata": {},
   "outputs": [
    {
     "name": "stdout",
     "output_type": "stream",
     "text": [
      "\n",
      "    Misión actual: Luna\n",
      "    Tiempo de vuelo: 65 minutos\n",
      "    Combustible restante: 500000 litros\n",
      "    \n",
      "\n",
      "    Misión actual: Luna\n",
      "    Tiempo de vuelo: 76 minutos\n",
      "    Combustible restante: 500000\n",
      "    \n",
      "\n",
      "    Misión actual: Luna\n",
      "    Tiempo de vuelo: 74 minutos\n",
      "    Combustible restante: 500000\n",
      "    tanque interno 300000 litros restantes\n",
      "tanque externo 200000 litros restantes\n",
      "\n"
     ]
    }
   ],
   "source": [
    "# Ejercicio 2\n",
    "\n",
    "def reporte_mision(prelanzamiento, tiempo_vuelo, destino, tanque_externo, tanque_interno):\n",
    "    return f\"\"\"\n",
    "    Misión actual: {destino}\n",
    "    Tiempo de vuelo: {prelanzamiento + tiempo_vuelo} minutos\n",
    "    Combustible restante: {tanque_externo + tanque_interno} litros\n",
    "    \"\"\"\n",
    "\n",
    "print(reporte_mision(14, 51, \"Luna\", 200000, 300000))\n",
    "\n",
    "def reporte_mision(destino, *minutos, **tanque_comb):\n",
    "    return f\"\"\"\n",
    "    Misión actual: {destino}\n",
    "    Tiempo de vuelo: {sum(minutos)} minutos\n",
    "    Combustible restante: {sum(tanque_comb.values())}\n",
    "    \"\"\"\n",
    "\n",
    "print(reporte_mision(\"Luna\", 10, 15, 51, interno=300000, externo=200000))\n",
    "\n",
    "def reporte_mision(destino, *minutos, **tanque_comb):\n",
    "    reporte = f\"\"\"\n",
    "    Misión actual: {destino}\n",
    "    Tiempo de vuelo: {sum(minutos)} minutos\n",
    "    Combustible restante: {sum(tanque_comb.values())}\n",
    "    \"\"\"\n",
    "    for tanq_nm, litros in tanque_comb.items():\n",
    "        reporte += f\"tanque {tanq_nm} {litros} litros restantes\\n\"\n",
    "    return reporte\n",
    "\n",
    "print(reporte_mision(\"Luna\", 8, 11, 55, interno=300000, externo=200000))"
   ]
  }
 ],
 "metadata": {
  "interpreter": {
   "hash": "efb27aadfb5927903642bfcfb30c751a53720953f15ae9a7bf806b1d97bd2e07"
  },
  "kernelspec": {
   "display_name": "Python 3.9.10 64-bit (windows store)",
   "language": "python",
   "name": "python3"
  },
  "language_info": {
   "codemirror_mode": {
    "name": "ipython",
    "version": 3
   },
   "file_extension": ".py",
   "mimetype": "text/x-python",
   "name": "python",
   "nbconvert_exporter": "python",
   "pygments_lexer": "ipython3",
   "version": "3.9.10"
  },
  "orig_nbformat": 4
 },
 "nbformat": 4,
 "nbformat_minor": 2
}
