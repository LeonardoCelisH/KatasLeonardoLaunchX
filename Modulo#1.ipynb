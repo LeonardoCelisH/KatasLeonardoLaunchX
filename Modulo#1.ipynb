{
 "cells": [
  {
   "cell_type": "markdown",
   "metadata": {},
   "source": [
    "## Kata modulo 1"
   ]
  },
  {
   "cell_type": "code",
   "execution_count": 1,
   "metadata": {},
   "outputs": [
    {
     "name": "stdout",
     "output_type": "stream",
     "text": [
      "Today's date is: 2022-02-15\n"
     ]
    }
   ],
   "source": [
    "#Fecha\n",
    "from datetime import date\n",
    "print(\"Today's date is: \" + str (date.today()))"
   ]
  },
  {
   "cell_type": "code",
   "execution_count": 2,
   "metadata": {},
   "outputs": [
    {
     "name": "stdout",
     "output_type": "stream",
     "text": [
      "34 Parsecs 110.89304 Años Luz\n"
     ]
    }
   ],
   "source": [
    "parsec = 34\n",
    "años_luz = 3.26156 * parsec\n",
    "\n",
    "print(str(parsec) + \" Parsecs \" + str(años_luz) + \" Años Luz\")"
   ]
  }
 ],
 "metadata": {
  "interpreter": {
   "hash": "efb27aadfb5927903642bfcfb30c751a53720953f15ae9a7bf806b1d97bd2e07"
  },
  "kernelspec": {
   "display_name": "Python 3.9.10 64-bit (windows store)",
   "language": "python",
   "name": "python3"
  },
  "language_info": {
   "codemirror_mode": {
    "name": "ipython",
    "version": 3
   },
   "file_extension": ".py",
   "mimetype": "text/x-python",
   "name": "python",
   "nbconvert_exporter": "python",
   "pygments_lexer": "ipython3",
   "version": "3.9.10"
  },
  "orig_nbformat": 4
 },
 "nbformat": 4,
 "nbformat_minor": 2
}
