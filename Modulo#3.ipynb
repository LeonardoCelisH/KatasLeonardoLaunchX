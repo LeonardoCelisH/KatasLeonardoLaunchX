{
 "cells": [
  {
   "cell_type": "markdown",
   "metadata": {},
   "source": [
    "## Kata 3"
   ]
  },
  {
   "cell_type": "code",
   "execution_count": 11,
   "metadata": {},
   "outputs": [
    {
     "name": "stdout",
     "output_type": "stream",
     "text": [
      "Advertencia! asteroide cerca\n"
     ]
    }
   ],
   "source": [
    "# Ejercicio 1A\n",
    "\n",
    "velocidad_control = 25\n",
    "velocidad_medida = 49\n",
    "if velocidad_medida > velocidad_control:\n",
    "    print(\"Advertencia! asteroide cerca\")\n",
    "else:\n",
    "    print(\"Todo bajo control :)\")\n"
   ]
  },
  {
   "cell_type": "code",
   "execution_count": 16,
   "metadata": {},
   "outputs": [
    {
     "name": "stdout",
     "output_type": "stream",
     "text": [
      "No es momento de voltear al cielo\n"
     ]
    }
   ],
   "source": [
    "# Ejercicio 1B\n",
    "\n",
    "velocidad_control = 20\n",
    "velocidad_medida = 19\n",
    "\n",
    "if velocidad_medida >= velocidad_control:\n",
    "    print(\"Mira al cielo!, algo increíble esta pasando :D\")\n",
    "else: \n",
    "    print(\"No es momento de voltear al cielo\")"
   ]
  },
  {
   "cell_type": "code",
   "execution_count": 32,
   "metadata": {},
   "outputs": [
    {
     "name": "stdout",
     "output_type": "stream",
     "text": [
      "Nada nuevo :(\n"
     ]
    }
   ],
   "source": [
    "# Ejercicio 2\n",
    "\n",
    "dimension_medida = 10\n",
    "velocidad_medida = 10\n",
    "\n",
    "if dimension_medida > 25 and velocidad_medida >= 20:\n",
    "    print(\"Advertencia!, un asteroide peligroso se acerca\")\n",
    "elif dimension_medida < 25 and velocidad_medida >= 20:\n",
    "    print(\"Mira al cielo!, algo increíble esta pasando :D\")\n",
    "else :\n",
    "    print(\"Nada nuevo :(\")\n",
    " "
   ]
  }
 ],
 "metadata": {
  "interpreter": {
   "hash": "efb27aadfb5927903642bfcfb30c751a53720953f15ae9a7bf806b1d97bd2e07"
  },
  "kernelspec": {
   "display_name": "Python 3.9.10 64-bit (windows store)",
   "language": "python",
   "name": "python3"
  },
  "language_info": {
   "codemirror_mode": {
    "name": "ipython",
    "version": 3
   },
   "file_extension": ".py",
   "mimetype": "text/x-python",
   "name": "python",
   "nbconvert_exporter": "python",
   "pygments_lexer": "ipython3",
   "version": "3.9.10"
  },
  "orig_nbformat": 4
 },
 "nbformat": 4,
 "nbformat_minor": 2
}
